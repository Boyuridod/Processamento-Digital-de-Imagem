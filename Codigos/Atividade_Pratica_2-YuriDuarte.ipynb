{
  "cells": [
    {
      "cell_type": "markdown",
      "metadata": {
        "id": "Vwc2yo00rBep"
      },
      "source": [
        "#Atividade Prática\n",
        "\n",
        "**Histograma e Limiarização**"
      ]
    },
    {
      "cell_type": "markdown",
      "metadata": {
        "id": "RS5SJGyIrJfp"
      },
      "source": [
        "Insira e apresente uma imagem colorida da sua escolha."
      ]
    },
    {
      "cell_type": "code",
      "execution_count": 1,
      "metadata": {
        "id": "mimiEgWarIz6"
      },
      "outputs": [],
      "source": [
        "from PIL import Image\n",
        "\n",
        "def trataCaminho(caminhoDaImagem):\n",
        "    \n",
        "    caminho = \"\"\n",
        "    \n",
        "    for i in range(len(caminhoDaImagem)):\n",
        "        if(i != 0 and i != len(caminhoDaImagem) - 1):\n",
        "            caminho += caminhoDaImagem[i]\n",
        "        else:\n",
        "            if(caminhoDaImagem[i] != '\"'):\n",
        "                caminho += caminhoDaImagem[i]\n",
        "\n",
        "    return caminho\n",
        "\n",
        "path = trataCaminho(input(\"Caminho da imagem: \"))\n",
        "imagem = Image.open(path)\n",
        "imagem.show()"
      ]
    },
    {
      "cell_type": "markdown",
      "metadata": {
        "id": "0ZgLwBDTrPz1"
      },
      "source": [
        "Apresente o Histograma da imagem em RGB"
      ]
    },
    {
      "cell_type": "code",
      "execution_count": null,
      "metadata": {
        "id": "u3CO6crjrWAM"
      },
      "outputs": [],
      "source": []
    },
    {
      "cell_type": "markdown",
      "metadata": {
        "id": "FAUR6narw-ep"
      },
      "source": [
        "Apresente o Hostograma da imagem em RGB, porém agora apresente separado cada conjunto de cores, desta forma, será apresentado o histograma apenas do R (RED);\n",
        "\n",
        "Depois do G (GREEN):\n",
        "\n",
        "E finalmente do B (BLUE)."
      ]
    },
    {
      "cell_type": "code",
      "execution_count": null,
      "metadata": {
        "id": "tJvlqRjHxYx6"
      },
      "outputs": [],
      "source": []
    },
    {
      "cell_type": "markdown",
      "metadata": {
        "id": "m7KsEk__rWxZ"
      },
      "source": [
        "Apresente o Histograma em tons de Cinza (8 bits)."
      ]
    },
    {
      "cell_type": "code",
      "execution_count": null,
      "metadata": {
        "id": "RibyEu-prcP6"
      },
      "outputs": [],
      "source": []
    },
    {
      "cell_type": "markdown",
      "metadata": {
        "id": "GlTAnyRtwLVS"
      },
      "source": [
        "Utilizando o recurso SUBPLOT, crie uma matriz 2x2 para poder apresentar 4 gráficos diferentes.\n",
        "\n",
        "O Gráfico 1 será o histograma de valores que vão de 0 até 63;\n",
        "\n",
        "O Gráfico 2 será o histograma de valores que vão de 64 até 127;\n",
        "\n",
        "O Gráfico 3 será o histograma de valores que vão de 128 até 191;\n",
        "\n",
        "O Gráfico 4 será o histograma de valores que vão de 192 até 255;"
      ]
    },
    {
      "cell_type": "code",
      "execution_count": null,
      "metadata": {
        "id": "qoYMIEnFww7w"
      },
      "outputs": [],
      "source": []
    },
    {
      "cell_type": "markdown",
      "metadata": {
        "id": "6YnzbpBErk8t"
      },
      "source": [
        "Faça a limirização da imagem RGB original com valor a sua escolha, apresente a imagem original e ao lado a imagem limiarizada."
      ]
    },
    {
      "cell_type": "code",
      "execution_count": null,
      "metadata": {
        "id": "AeKJHeTGruUW"
      },
      "outputs": [],
      "source": []
    },
    {
      "cell_type": "markdown",
      "metadata": {
        "id": "rmKMfG4erwDj"
      },
      "source": [
        "Faça outra limirização da imagem RGB original com valor a sua escolha e diferente do exercício anterior, apresente a imagem original e ao lado a imagem limiarizada."
      ]
    },
    {
      "cell_type": "code",
      "execution_count": null,
      "metadata": {
        "id": "DF47mKCOr3oc"
      },
      "outputs": [],
      "source": []
    },
    {
      "cell_type": "markdown",
      "metadata": {
        "id": "6H2eRV70r40v"
      },
      "source": [
        "Compartilhe sua atividade no Colab através do AVA, esta atividade deve ser entregue até o dia 10/10/2024."
      ]
    }
  ],
  "metadata": {
    "colab": {
      "provenance": [],
      "toc_visible": true
    },
    "kernelspec": {
      "display_name": "Python 3",
      "name": "python3"
    },
    "language_info": {
      "codemirror_mode": {
        "name": "ipython",
        "version": 3
      },
      "file_extension": ".py",
      "mimetype": "text/x-python",
      "name": "python",
      "nbconvert_exporter": "python",
      "pygments_lexer": "ipython3",
      "version": "3.11.9"
    }
  },
  "nbformat": 4,
  "nbformat_minor": 0
}
